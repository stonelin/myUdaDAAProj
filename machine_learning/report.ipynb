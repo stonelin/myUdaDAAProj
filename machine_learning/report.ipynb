{
 "cells": [
  {
   "cell_type": "markdown",
   "metadata": {},
   "source": [
    "# P5:从安然公司邮件中发现欺诈证据"
   ]
  },
  {
   "cell_type": "markdown",
   "metadata": {},
   "source": [
    "## 概述"
   ]
  },
  {
   "cell_type": "markdown",
   "metadata": {},
   "source": [
    "项目目标是通过公开的安然财务和邮件数据集，找出有欺诈嫌疑的安然雇员。使用监督机器学习可以让计算机根据已有的数据训练处可以推测新数据是否有欺诈嫌疑的算法，并可以通过反复优化算法以获得更高的准确率。\n"
   ]
  },
  {
   "cell_type": "markdown",
   "metadata": {},
   "source": [
    "数据中包含异常值，key是\"TOTAL\"，猜测是电子表格中的汇总数据误填进来了。处理方法是删掉。"
   ]
  },
  {
   "cell_type": "code",
   "execution_count": 1,
   "metadata": {
    "collapsed": false
   },
   "outputs": [
    {
     "name": "stdout",
     "output_type": "stream",
     "text": [
      "Populating the interactive namespace from numpy and matplotlib\n"
     ]
    }
   ],
   "source": [
    "% pylab inline\n",
    "import sys\n",
    "import pickle\n",
    "sys.path.append(\"../tools/\")\n",
    "\n",
    "from feature_format import featureFormat, targetFeatureSplit\n",
    "\n",
    "\n",
    "with open(\"final_project_dataset.pkl\", \"r\") as data_file:\n",
    "    data_dict = pickle.load(data_file)"
   ]
  },
  {
   "cell_type": "code",
   "execution_count": 2,
   "metadata": {
    "collapsed": false
   },
   "outputs": [
    {
     "name": "stdout",
     "output_type": "stream",
     "text": [
      "数据点总数:  146\n"
     ]
    }
   ],
   "source": [
    "print \"数据点总数: \",len(data_dict)"
   ]
  },
  {
   "cell_type": "code",
   "execution_count": 3,
   "metadata": {
    "collapsed": false
   },
   "outputs": [
    {
     "data": {
      "text/plain": [
       "{'bonus': 600000,\n",
       " 'deferral_payments': 'NaN',\n",
       " 'deferred_income': 'NaN',\n",
       " 'director_fees': 'NaN',\n",
       " 'email_address': 'mark.metts@enron.com',\n",
       " 'exercised_stock_options': 'NaN',\n",
       " 'expenses': 94299,\n",
       " 'from_messages': 29,\n",
       " 'from_poi_to_this_person': 38,\n",
       " 'from_this_person_to_poi': 1,\n",
       " 'loan_advances': 'NaN',\n",
       " 'long_term_incentive': 'NaN',\n",
       " 'other': 1740,\n",
       " 'poi': False,\n",
       " 'restricted_stock': 585062,\n",
       " 'restricted_stock_deferred': 'NaN',\n",
       " 'salary': 365788,\n",
       " 'shared_receipt_with_poi': 702,\n",
       " 'to_messages': 807,\n",
       " 'total_payments': 1061827,\n",
       " 'total_stock_value': 585062}"
      ]
     },
     "execution_count": 3,
     "metadata": {},
     "output_type": "execute_result"
    }
   ],
   "source": [
    "data_dict.values()[0]"
   ]
  },
  {
   "cell_type": "code",
   "execution_count": 4,
   "metadata": {
    "collapsed": false
   },
   "outputs": [
    {
     "name": "stdout",
     "output_type": "stream",
     "text": [
      "21\n"
     ]
    }
   ],
   "source": [
    "print len(data_dict.values()[0])"
   ]
  },
  {
   "cell_type": "code",
   "execution_count": 5,
   "metadata": {
    "collapsed": true
   },
   "outputs": [],
   "source": [
    "# 改变数据把相同的特征放到同一个list中\n",
    "trans_data = {k:[] for k in data_dict.values()[0].keys()}\n",
    "for _, raw in data_dict.items():\n",
    "    for k, v in raw.items():\n",
    "        trans_data[k].append(v)"
   ]
  },
  {
   "cell_type": "markdown",
   "metadata": {
    "collapsed": false
   },
   "source": [
    "其中poi是标签，不做为分析特征，所以总共有20个特征。分别是：\n",
    "\n",
    "salary, to_messages, deferral_payments, total_payments, exercised_stock_options, bonus, restricted_stock, shared_receipt_with_poi, restricted_stock_deferred, total_stock_value, expenses, loan_advances, from_messages, other, from_this_person_to_poi, director_fees, deferred_income, long_term_incentive, from_poi_to_this_person"
   ]
  },
  {
   "cell_type": "code",
   "execution_count": 6,
   "metadata": {
    "collapsed": false
   },
   "outputs": [
    {
     "name": "stdout",
     "output_type": "stream",
     "text": [
      " 特征包含缺失值的数量:\n",
      "  142: loan_advances\n",
      "  129: director_fees\n",
      "  128: restricted_stock_deferred\n",
      "  107: deferral_payments\n",
      "   97: deferred_income\n",
      "   80: long_term_incentive\n",
      "   64: bonus\n",
      "   60: to_messages\n",
      "   60: shared_receipt_with_poi\n",
      "   60: from_messages\n",
      "   60: from_poi_to_this_person\n",
      "   60: from_this_person_to_poi\n",
      "   53: other\n",
      "   51: salary\n",
      "   51: expenses\n",
      "   44: exercised_stock_options\n",
      "   36: restricted_stock\n",
      "   35: email_address\n",
      "   21: total_payments\n",
      "   20: total_stock_value\n",
      "    0: poi\n"
     ]
    }
   ],
   "source": [
    "print \" 特征包含缺失值的数量:\"\n",
    "for k, v in sorted(trans_data.items(), key=lambda x:x[1].count(\"NaN\"), reverse=True):\n",
    "    print(\"{:5}: {}\".format(v.count(\"NaN\"), k))"
   ]
  },
  {
   "cell_type": "markdown",
   "metadata": {},
   "source": [
    "loan_advances，director_fees，restricted_stock_deferred，deferral_payments，deferred_income，long_term_incentive 等都包含了大量的缺失值，在featureFormat 方法中做了补零处理(使用sklearn.preprocessing.Imputer可以对缺失值进行处理)。"
   ]
  },
  {
   "cell_type": "code",
   "execution_count": 7,
   "metadata": {
    "collapsed": false
   },
   "outputs": [
    {
     "name": "stdout",
     "output_type": "stream",
     "text": [
      "('LOCKHART EUGENE E', 20)\n",
      "('WHALEY DAVID A', 18)\n",
      "('WROBEL BRUCE', 18)\n",
      "('THE TRAVEL AGENCY IN THE PARK', 18)\n",
      "('GRAMM WENDY L', 18)\n",
      "('WODRASKA JOHN', 17)\n",
      "('CLINE KENNETH W', 17)\n",
      "('WAKEHAM JOHN', 17)\n",
      "('SCRIMSHAW MATTHEW', 17)\n",
      "('GILLIS JOHN', 17)\n"
     ]
    }
   ],
   "source": [
    "for k, v in sorted(data_dict.items(), key=lambda v:v[1].values().count(\"NaN\"), reverse=True)[:10]:\n",
    "    print(k, v.values().count(\"NaN\"))\n"
   ]
  },
  {
   "cell_type": "code",
   "execution_count": 8,
   "metadata": {
    "collapsed": false
   },
   "outputs": [
    {
     "data": {
      "text/plain": [
       "{'bonus': 'NaN',\n",
       " 'deferral_payments': 'NaN',\n",
       " 'deferred_income': 'NaN',\n",
       " 'director_fees': 'NaN',\n",
       " 'email_address': 'NaN',\n",
       " 'exercised_stock_options': 'NaN',\n",
       " 'expenses': 'NaN',\n",
       " 'from_messages': 'NaN',\n",
       " 'from_poi_to_this_person': 'NaN',\n",
       " 'from_this_person_to_poi': 'NaN',\n",
       " 'loan_advances': 'NaN',\n",
       " 'long_term_incentive': 'NaN',\n",
       " 'other': 'NaN',\n",
       " 'poi': False,\n",
       " 'restricted_stock': 'NaN',\n",
       " 'restricted_stock_deferred': 'NaN',\n",
       " 'salary': 'NaN',\n",
       " 'shared_receipt_with_poi': 'NaN',\n",
       " 'to_messages': 'NaN',\n",
       " 'total_payments': 'NaN',\n",
       " 'total_stock_value': 'NaN'}"
      ]
     },
     "execution_count": 8,
     "metadata": {},
     "output_type": "execute_result"
    }
   ],
   "source": [
    "data_dict[\"LOCKHART EUGENE E\"]"
   ]
  },
  {
   "cell_type": "markdown",
   "metadata": {},
   "source": [
    "“LOCKHART EUGENE E”的20个特征皆为NaN，“THE TRAVEL AGENCY IN THE PARK”显然不是一个人名，所以这两个都是异常值"
   ]
  },
  {
   "cell_type": "code",
   "execution_count": 9,
   "metadata": {
    "collapsed": false
   },
   "outputs": [
    {
     "data": {
      "text/plain": [
       "{'bonus': 'NaN',\n",
       " 'deferral_payments': 'NaN',\n",
       " 'deferred_income': 'NaN',\n",
       " 'director_fees': 'NaN',\n",
       " 'email_address': 'NaN',\n",
       " 'exercised_stock_options': 'NaN',\n",
       " 'expenses': 'NaN',\n",
       " 'from_messages': 'NaN',\n",
       " 'from_poi_to_this_person': 'NaN',\n",
       " 'from_this_person_to_poi': 'NaN',\n",
       " 'loan_advances': 'NaN',\n",
       " 'long_term_incentive': 'NaN',\n",
       " 'other': 362096,\n",
       " 'poi': False,\n",
       " 'restricted_stock': 'NaN',\n",
       " 'restricted_stock_deferred': 'NaN',\n",
       " 'salary': 'NaN',\n",
       " 'shared_receipt_with_poi': 'NaN',\n",
       " 'to_messages': 'NaN',\n",
       " 'total_payments': 362096,\n",
       " 'total_stock_value': 'NaN'}"
      ]
     },
     "execution_count": 9,
     "metadata": {},
     "output_type": "execute_result"
    }
   ],
   "source": [
    "data_dict.pop(\"LOCKHART EUGENE E\")\n",
    "data_dict.pop(\"THE TRAVEL AGENCY IN THE PARK\")"
   ]
  },
  {
   "cell_type": "code",
   "execution_count": 10,
   "metadata": {
    "collapsed": true
   },
   "outputs": [],
   "source": [
    "# 对data_dict中的缺失值进行补零\n",
    "for v in data_dict.values():\n",
    "    for k in v:\n",
    "        # email_address是电子邮件地址是字符串，poi是标签且没有缺失值，这两个值忽略\n",
    "        if k in {\"email_address\", \"poi\"}:\n",
    "            continue\n",
    "        if v[k] == \"NaN\":\n",
    "            v[k] = 0"
   ]
  },
  {
   "cell_type": "code",
   "execution_count": 11,
   "metadata": {
    "collapsed": false
   },
   "outputs": [
    {
     "data": {
      "image/png": "[encoded data removed]",
      "text/plain": [
       "<matplotlib.figure.Figure at 0x10e412e90>"
      ]
     },
     "metadata": {},
     "output_type": "display_data"
    }
   ],
   "source": [
    "for v in data_dict.values():\n",
    "    x, y = v[\"salary\"], v[\"total_payments\"]\n",
    "    color = \"r\" if v[\"poi\"] else 'b'\n",
    "    if x == \"NaN\" or y == \"NaN\":\n",
    "        continue\n",
    "    plt.scatter(float(x), float(y), color=color)"
   ]
  },
  {
   "cell_type": "code",
   "execution_count": 12,
   "metadata": {
    "collapsed": false
   },
   "outputs": [
    {
     "data": {
      "text/plain": [
       "'TOTAL'"
      ]
     },
     "execution_count": 12,
     "metadata": {},
     "output_type": "execute_result"
    }
   ],
   "source": [
    "max(data_dict, key=lambda k:data_dict[k][\"salary\"])"
   ]
  },
  {
   "cell_type": "code",
   "execution_count": 13,
   "metadata": {
    "collapsed": false
   },
   "outputs": [
    {
     "data": {
      "text/plain": [
       "{'bonus': 97343619,\n",
       " 'deferral_payments': 32083396,\n",
       " 'deferred_income': -27992891,\n",
       " 'director_fees': 1398517,\n",
       " 'email_address': 'NaN',\n",
       " 'exercised_stock_options': 311764000,\n",
       " 'expenses': 5235198,\n",
       " 'from_messages': 0,\n",
       " 'from_poi_to_this_person': 0,\n",
       " 'from_this_person_to_poi': 0,\n",
       " 'loan_advances': 83925000,\n",
       " 'long_term_incentive': 48521928,\n",
       " 'other': 42667589,\n",
       " 'poi': False,\n",
       " 'restricted_stock': 130322299,\n",
       " 'restricted_stock_deferred': -7576788,\n",
       " 'salary': 26704229,\n",
       " 'shared_receipt_with_poi': 0,\n",
       " 'to_messages': 0,\n",
       " 'total_payments': 309886585,\n",
       " 'total_stock_value': 434509511}"
      ]
     },
     "execution_count": 13,
     "metadata": {},
     "output_type": "execute_result"
    }
   ],
   "source": [
    "# 从名字可以看出这个值有问题,移除\n",
    "data_dict.pop(\"TOTAL\")"
   ]
  },
  {
   "cell_type": "code",
   "execution_count": 14,
   "metadata": {
    "collapsed": false
   },
   "outputs": [
    {
     "data": {
      "image/png": "[encoded data removed]",
      "text/plain": [
       "<matplotlib.figure.Figure at 0x10e7d3990>"
      ]
     },
     "metadata": {},
     "output_type": "display_data"
    }
   ],
   "source": [
    "for v in data_dict.values():\n",
    "    x, y = v[\"salary\"], v[\"total_payments\"]\n",
    "    color = \"r\" if v[\"poi\"] else 'b'\n",
    "    if x == \"NaN\" or y == \"NaN\":\n",
    "        continue\n",
    "    plt.scatter(float(x), float(y), color=color)"
   ]
  },
  {
   "cell_type": "code",
   "execution_count": 15,
   "metadata": {
    "collapsed": false
   },
   "outputs": [
    {
     "data": {
      "text/plain": [
       "['LAVORATO JOHN J', 'LAY KENNETH L', 'SKILLING JEFFREY K']"
      ]
     },
     "execution_count": 15,
     "metadata": {},
     "output_type": "execute_result"
    }
   ],
   "source": [
    "# boss级人物，薪水高正常\n",
    "sorted(data_dict, key=lambda k:data_dict[k], reverse=True)[:3]"
   ]
  },
  {
   "cell_type": "code",
   "execution_count": 16,
   "metadata": {
    "collapsed": false
   },
   "outputs": [
    {
     "name": "stdout",
     "output_type": "stream",
     "text": [
      "有效数据点总数:  143\n",
      "POI个数： 18\n",
      "非POI个数： 125\n"
     ]
    }
   ],
   "source": [
    "# 重置trans_data 改变数据把相同的特征放到同一个list中\n",
    "trans_data = {k:[] for k in data_dict.values()[0].keys()}\n",
    "for _, raw in data_dict.items():\n",
    "    for k, v in raw.items():\n",
    "        trans_data[k].append(v)\n",
    "print \"有效数据点总数: \",len(data_dict)\n",
    "print \"POI个数：\", trans_data[\"poi\"].count(1)\n",
    "print \"非POI个数：\", trans_data[\"poi\"].count(0)"
   ]
  },
  {
   "cell_type": "markdown",
   "metadata": {},
   "source": [
    "数据中总共找到3个异常值，处理方法是删掉，删掉异常值后的数据点数是143，3个异常值分别是：\n",
    "- “LOCKHART EUGENE E”   20个特征皆为NaN\n",
    "- ”THE TRAVEL AGENCY IN THE PARK“      显然不是个人名\n",
    "- “TOTAL”               猜测是电子表格中的汇总数据误填进来了。"
   ]
  },
  {
   "cell_type": "markdown",
   "metadata": {
    "collapsed": true
   },
   "source": [
    "## 特征"
   ]
  },
  {
   "cell_type": "markdown",
   "metadata": {},
   "source": [
    "考虑到可能因为工作性质的原因会影响员工发邮件的频率，准备**创建两个个新特征**来消除这方面的影响。如下\n",
    "\n",
    "- 新特征from_poi_to_this_person_rate表示员工收到的邮件中，poi所占的比例。计算方式是 收到poi发送邮件的总数/收到邮件的总数。\n",
    "\n",
    "- 新特征from_this_person_to_poi_rate表示员工收到的邮件中，poi所占的比例。计算方式是 发送给poi邮件的总数/发出邮件的总数。"
   ]
  },
  {
   "cell_type": "markdown",
   "metadata": {},
   "source": [
    "选择特征时使用了SelectKBest选择器，按照得到的分值排序，从高到低依次增加特征进行训练，然后整体对比(具体测试结果下文有列出)，最终使用的特征是exercised_stock_options、total_stock_value、bonus。测试时测试了新特征from_this_person_to_poi_rate，可惜结果不是很理想(下文有具体数据)。"
   ]
  },
  {
   "cell_type": "markdown",
   "metadata": {},
   "source": [
    "以下是大致分析过程"
   ]
  },
  {
   "cell_type": "code",
   "execution_count": 17,
   "metadata": {
    "collapsed": false
   },
   "outputs": [
    {
     "data": {
      "text/plain": [
       "{'bonus': 600000,\n",
       " 'deferral_payments': 0,\n",
       " 'deferred_income': 0,\n",
       " 'director_fees': 0,\n",
       " 'email_address': 'mark.metts@enron.com',\n",
       " 'exercised_stock_options': 0,\n",
       " 'expenses': 94299,\n",
       " 'from_messages': 29,\n",
       " 'from_poi_to_this_person': 38,\n",
       " 'from_this_person_to_poi': 1,\n",
       " 'loan_advances': 0,\n",
       " 'long_term_incentive': 0,\n",
       " 'other': 1740,\n",
       " 'poi': False,\n",
       " 'restricted_stock': 585062,\n",
       " 'restricted_stock_deferred': 0,\n",
       " 'salary': 365788,\n",
       " 'shared_receipt_with_poi': 702,\n",
       " 'to_messages': 807,\n",
       " 'total_payments': 1061827,\n",
       " 'total_stock_value': 585062}"
      ]
     },
     "execution_count": 17,
     "metadata": {},
     "output_type": "execute_result"
    }
   ],
   "source": [
    "data_dict.values()[0]"
   ]
  },
  {
   "cell_type": "code",
   "execution_count": 18,
   "metadata": {
    "collapsed": false
   },
   "outputs": [],
   "source": [
    "# 创建新特征from_poi_to_this_person_rate 和 from_this_person_to_poi_rate\n",
    "for name, attrs in data_dict.items():\n",
    "    if attrs[\"from_messages\"] != \"NaN\" \\\n",
    "        and attrs[\"from_messages\"] \\\n",
    "        and attrs[\"from_this_person_to_poi\"] != \"NaN\":\n",
    "        attrs[\"from_this_person_to_poi_rate\"] = 1.0 * attrs[\"from_this_person_to_poi\"] / attrs[\"from_messages\"]\n",
    "    else:\n",
    "        attrs[\"from_this_person_to_poi_rate\"] = \"NaN\"\n",
    "    if attrs[\"to_messages\"] != \"NaN\" \\\n",
    "        and attrs[\"to_messages\"] \\\n",
    "        and attrs[\"from_poi_to_this_person\"] != \"NaN\":\n",
    "        attrs[\"from_poi_to_this_person_rate\"] = 1.0 * attrs[\"from_poi_to_this_person\"] / attrs[\"to_messages\"]\n",
    "    else:\n",
    "        attrs[\"from_poi_to_this_person_rate\"] = \"NaN\""
   ]
  },
  {
   "cell_type": "code",
   "execution_count": 19,
   "metadata": {
    "collapsed": false
   },
   "outputs": [],
   "source": [
    "\n",
    "# 获取特征数据\n",
    "features_list = data_dict.values()[0].keys()\n",
    "# email_address 是字符串 在这里排除掉\n",
    "features_list.remove(\"email_address\")\n",
    "# poi 是label 根据featureFormat的参数要求，需要前置\n",
    "features_list.remove(\"poi\")\n",
    "features_list.insert(0, \"poi\")\n",
    "\n",
    "data = featureFormat(data_dict, features_list, sort_keys = True)\n",
    "labels, features = targetFeatureSplit(data)\n"
   ]
  },
  {
   "cell_type": "code",
   "execution_count": 20,
   "metadata": {
    "collapsed": false
   },
   "outputs": [
    {
     "name": "stdout",
     "output_type": "stream",
     "text": [
      "exercised_stock_options       :    24.8150797332\n",
      "total_stock_value             :    24.1828986786\n",
      "bonus                         :    20.7922520472\n",
      "salary                        :    18.2896840434\n",
      "from_this_person_to_poi_rate  :    16.409712548\n",
      "deferred_income               :    11.4584765793\n",
      "long_term_incentive           :    9.92218601319\n",
      "restricted_stock              :    9.21281062198\n",
      "total_payments                :    8.77277773009\n",
      "shared_receipt_with_poi       :    8.58942073168\n",
      "loan_advances                 :    7.18405565829\n",
      "expenses                      :    6.09417331064\n",
      "from_poi_to_this_person       :    5.24344971337\n",
      "other                         :    4.187477507\n",
      "from_poi_to_this_person_rate  :    3.12809174816\n",
      "from_this_person_to_poi       :    2.38261210823\n",
      "director_fees                 :    2.12632780201\n",
      "to_messages                   :    1.64634112944\n",
      "deferral_payments             :    0.224611274736\n",
      "from_messages                 :    0.169700947622\n",
      "restricted_stock_deferred     :    0.0654996529099\n"
     ]
    }
   ],
   "source": [
    "# 使用SelectKBest选择器查看每个特征的评分\n",
    "from sklearn.feature_selection import SelectKBest, f_classif\n",
    "selector = SelectKBest(f_classif)\n",
    "selector.fit(features, labels)\n",
    "for feature_name, score in sorted(zip(features_list[1:], selector.scores_), \n",
    "                                  key=lambda x:x[1], \n",
    "                                  reverse=True):\n",
    "    print \"{:30s}:    {}\".format(feature_name, score)\n",
    "\n"
   ]
  },
  {
   "cell_type": "code",
   "execution_count": 21,
   "metadata": {
    "collapsed": false
   },
   "outputs": [
    {
     "data": {
      "image/png": "[encoded data removed]",
      "text/plain": [
       "<matplotlib.figure.Figure at 0x110019590>"
      ]
     },
     "metadata": {},
     "output_type": "display_data"
    }
   ],
   "source": [
    "for v in data_dict.values():\n",
    "    x, y = v[\"exercised_stock_options\"], v[\"total_stock_value\"]\n",
    "    color = \"r\" if v[\"poi\"] else 'b'\n",
    "    if x == \"NaN\" or y == \"NaN\":\n",
    "        continue\n",
    "    plt.scatter(float(x), float(y), color=color)"
   ]
  },
  {
   "cell_type": "code",
   "execution_count": 22,
   "metadata": {
    "collapsed": false
   },
   "outputs": [
    {
     "name": "stderr",
     "output_type": "stream",
     "text": [
      "/Users/mengyu/env/lib/python2.7/site-packages/sklearn/cross_validation.py:41: DeprecationWarning: This module was deprecated in version 0.18 in favor of the model_selection module into which all the refactored classes and functions are moved. Also note that the interface of the new CV iterators are different from that of this module. This module will be removed in 0.20.\n",
      "  \"This module will be removed in 0.20.\", DeprecationWarning)\n"
     ]
    }
   ],
   "source": [
    "from sklearn.cross_validation import StratifiedShuffleSplit\n",
    "\n",
    "\n",
    "def test_classifier_for_return(clf, dataset, feature_list, folds = 1000):\n",
    "    \"\"\"\n",
    "    测试分类器效果，return指标值\n",
    "    return accuracy, precision, recall, f1, f2\n",
    "    \"\"\"\n",
    "    data = featureFormat(dataset, feature_list, sort_keys = True)\n",
    "    labels, features = targetFeatureSplit(data)\n",
    "    cv = StratifiedShuffleSplit(labels, folds, random_state = 42)\n",
    "    true_negatives = 0\n",
    "    false_negatives = 0\n",
    "    true_positives = 0\n",
    "    false_positives = 0\n",
    "    for train_idx, test_idx in cv: \n",
    "        features_train = []\n",
    "        features_test  = []\n",
    "        labels_train   = []\n",
    "        labels_test    = []\n",
    "        for ii in train_idx:\n",
    "            features_train.append( features[ii] )\n",
    "            labels_train.append( labels[ii] )\n",
    "        for jj in test_idx:\n",
    "            features_test.append( features[jj] )\n",
    "            labels_test.append( labels[jj] )\n",
    "        \n",
    "        ### fit the classifier using training set, and test on test set\n",
    "        clf.fit(features_train, labels_train)\n",
    "        predictions = clf.predict(features_test)\n",
    "        for prediction, truth in zip(predictions, labels_test):\n",
    "            if prediction == 0 and truth == 0:\n",
    "                true_negatives += 1\n",
    "            elif prediction == 0 and truth == 1:\n",
    "                false_negatives += 1\n",
    "            elif prediction == 1 and truth == 0:\n",
    "                false_positives += 1\n",
    "            elif prediction == 1 and truth == 1:\n",
    "                true_positives += 1\n",
    "            else:\n",
    "                print \"Warning: Found a predicted label not == 0 or 1.\"\n",
    "                print \"All predictions should take value 0 or 1.\"\n",
    "                print \"Evaluating performance for processed predictions:\"\n",
    "                break\n",
    "    try:\n",
    "        total_predictions = true_negatives + false_negatives + false_positives + true_positives\n",
    "        accuracy = 1.0*(true_positives + true_negatives)/total_predictions\n",
    "        # 预测结果是嫌疑人的数据中正确的比例\n",
    "        precision = 1.0*true_positives/(true_positives+false_positives)\n",
    "        # 所有嫌疑人中正确预测到的比例\n",
    "        recall = 1.0*true_positives/(true_positives+false_negatives)\n",
    "        f1 = 2.0 * true_positives/(2*true_positives + false_positives+false_negatives)\n",
    "        f2 = (1+2.0*2.0) * precision*recall/(4*precision + recall)\n",
    "        return accuracy, precision, recall, f1, f2\n",
    "    except:\n",
    "        print \"Got a divide by zero when trying out:\", clf\n",
    "        print \"Precision or recall may be undefined due to a lack of true positive predicitons.\"\n"
   ]
  },
  {
   "cell_type": "code",
   "execution_count": 23,
   "metadata": {
    "collapsed": false
   },
   "outputs": [
    {
     "name": "stdout",
     "output_type": "stream",
     "text": [
      "|ID|参数|accuracy|precision|recall|f1|f2|\n",
      "|-:-|-:-|-:-|-:-|-:-|-:-|-:-|-:-|-:-|\n",
      "|1|exercised_stock_options|0.863| 0.274|0.310|0.291|0.302|\n",
      "|2|exercised_stock_options, total_stock_value|0.769| 0.231|0.214|0.222|0.217|\n",
      "|3|exercised_stock_options, total_stock_value, bonus|0.803| 0.373|0.408|0.389|0.400|\n",
      "|4|exercised_stock_options, total_stock_value, bonus, salary|0.786| 0.310|0.322|0.316|0.319|\n",
      "|5|exercised_stock_options, total_stock_value, bonus, salary, from_this_person_to_poi_rate|0.782| 0.266|0.300|0.282|0.292|\n",
      "|6|exercised_stock_options, total_stock_value, bonus, salary, from_this_person_to_poi_rate, deferred_income|0.794| 0.272|0.265|0.268|0.266|\n",
      "|7|exercised_stock_options, total_stock_value, bonus, salary, from_this_person_to_poi_rate, deferred_income, long_term_incentive|0.794| 0.268|0.255|0.261|0.258|\n",
      "|8|exercised_stock_options, total_stock_value, bonus, salary, from_this_person_to_poi_rate, deferred_income, long_term_incentive, restricted_stock|0.791| 0.249|0.231|0.240|0.234|\n"
     ]
    }
   ],
   "source": [
    "from sklearn.neighbors import KNeighborsClassifier\n",
    "from sklearn.tree import DecisionTreeClassifier\n",
    "from sklearn.pipeline import Pipeline\n",
    "from sklearn.preprocessing import MinMaxScaler\n",
    "from tester import test_classifier\n",
    "\n",
    "\n",
    "print \"|ID|参数|accuracy|precision|recall|f1|f2|\"\n",
    "print \"|-:-|-:-|-:-|-:-|-:-|-:-|-:-|-:-|-:-|\"\n",
    "\n",
    "i = 1\n",
    "features = [\"poi\"]\n",
    "for f in [\"exercised_stock_options\", \"total_stock_value\", \n",
    "          \"bonus\", \"salary\", \"from_this_person_to_poi_rate\", \n",
    "          \"deferred_income\", \"long_term_incentive\", \n",
    "          \"restricted_stock\"]:\n",
    "    features.append(f)\n",
    "    # 特征需要缩放\n",
    "    clf = Pipeline([\n",
    "#         (\"scaler\",MinMaxScaler()), \n",
    "        (\"clf\", DecisionTreeClassifier(random_state=42))\n",
    "    ])\n",
    "    result = test_classifier_for_return(clf, data_dict, features)\n",
    "    if result:\n",
    "        print \"|{}|{}|{:.3f}| {:.3f}|{:.3f}|{:.3f}|{:.3f}|\".format(\n",
    "            i, \n",
    "            \"{}\".format(\", \".join(features[1:])), *result)\n",
    "        i += 1"
   ]
  },
  {
   "cell_type": "markdown",
   "metadata": {},
   "source": [
    "按照得到的分值排序，从高到低依次增加特征在不优化参数采用贝叶斯算法算法下进行训练，所得到的结果如下：\n",
    "\n",
    "|ID|参数|accuracy|precision|recall|f1|f2|\n",
    "|-:-|-:-|-:-|-:-|-:-|-:-|-:-|-:-|-:-|\n",
    "|1|exercised_stock_options|0.863| 0.274|0.310|0.291|0.302|\n",
    "|2|exercised_stock_options, total_stock_value|0.769| 0.231|0.214|0.222|0.217|\n",
    "|3|exercised_stock_options, total_stock_value, bonus|0.803| 0.373|0.408|0.389|0.400|\n",
    "|4|exercised_stock_options, total_stock_value, bonus, salary|0.786| 0.310|0.322|0.316|0.319|\n",
    "|5|exercised_stock_options, total_stock_value, bonus, salary, from_this_person_to_poi_rate|0.782| 0.266|0.300|0.282|0.292|\n",
    "|6|exercised_stock_options, total_stock_value, bonus, salary, from_this_person_to_poi_rate, deferred_income|0.794| 0.272|0.265|0.268|0.266|\n",
    "|7|exercised_stock_options, total_stock_value, bonus, salary, from_this_person_to_poi_rate, deferred_income, long_term_incentive|0.794| 0.268|0.255|0.261|0.258|\n",
    "|8|exercised_stock_options, total_stock_value, bonus, salary, from_this_person_to_poi_rate, deferred_income, long_term_incentive, restricted_stock|0.791| 0.249|0.231|0.240|0.234|\n",
    "\n",
    "\n",
    "```\n",
    "        注：accuracy 预测结果正确值/预测总数；precision 预测结果是嫌疑人的数据中正确的比例；recall所有嫌疑人中正确预测到的比例\n",
    "```"
   ]
  },
  {
   "cell_type": "markdown",
   "metadata": {
    "collapsed": true
   },
   "source": [
    "指标accuracy表示预测是嫌疑人和不是嫌疑人整体的正确率，本次预测的目的是找出嫌疑人，所以使用precision和recall这两个指标更合适，precision 预测结果是嫌疑人的数据中正确的比例；recall所有嫌疑人中正确预测到的比例。\n",
    "\n",
    "上表可以看出第 exercised_stock_options, total_stock_value, bonus的时候precision和recall整体是最佳的，故而选择这3个特征继续进行优化。\n",
    "表中在第5行增加了**新特征**from_this_person_to_poi_rate，相比于第4行而言所有指标都下降，说明**使用新特征会使算法的性能降低**(使用决策树算法的时候是这样)，所以最终使用的特征为\n",
    "\n",
    "- exercised_stock_options\n",
    "- total_stock_value\n",
    "- bonus"
   ]
  },
  {
   "cell_type": "markdown",
   "metadata": {},
   "source": [
    "在使用不同算法简单评估性能的时候，贝叶斯和决策树算法不需要缩放，KKN算法需要进行缩放，使用MinMaxScaler。"
   ]
  },
  {
   "cell_type": "markdown",
   "metadata": {},
   "source": [
    "## 算法"
   ]
  },
  {
   "cell_type": "markdown",
   "metadata": {},
   "source": [
    "#### 调整参数的意义\n",
    "适当的参数调整可以提高算法的训练时间或预测时间，提高算法的accuracy，precision，recall等性能指标，还可以防止算法的过拟合。"
   ]
  },
  {
   "cell_type": "markdown",
   "metadata": {},
   "source": [
    "#### KNN算法"
   ]
  },
  {
   "cell_type": "markdown",
   "metadata": {},
   "source": [
    "KNN分类的原理是在分类时对于新的实例，会根据k个最邻近的训练实例的类别，通过多数表决等方式进行预测。\n",
    "\n",
    "- n_neighbors参数指定的是算法中的k值。该值过小会对噪声敏感，容易发生过拟合；该值过大时会忽略训练实例中很多有用的信息。\n",
    "- weights参数表示投票权重类型。uniform表示所有邻居节点的投票权重相等；distance表示邻居节点的投票权重和距离呈反比，即越近的节点权重越大。"
   ]
  },
  {
   "cell_type": "code",
   "execution_count": 24,
   "metadata": {
    "collapsed": false
   },
   "outputs": [
    {
     "name": "stdout",
     "output_type": "stream",
     "text": [
      "|ID|参数|accuracy|precision|recall|f1|f2|\n",
      "|-:-|-:-|-:-|-:-|-:-|-:-|-:-|-:-|-:-|\n",
      "|1|n_neighbors:1,weights:uniform|0.816| 0.397|0.380|0.388|0.383|\n",
      "|2|n_neighbors:2,weights:uniform|0.869| 0.765|0.213|0.334|0.249|\n",
      "|3|n_neighbors:3,weights:uniform|0.860| 0.583|0.306|0.401|0.338|\n",
      "|4|n_neighbors:4,weights:uniform|0.869| 0.798|0.196|0.314|0.230|\n",
      "|5|n_neighbors:5,weights:uniform|0.878| 0.797|0.280|0.414|0.322|\n",
      "|6|n_neighbors:6,weights:uniform|0.847| 0.543|0.044|0.082|0.055|\n",
      "|7|n_neighbors:1,weights:distance|0.816| 0.397|0.380|0.388|0.383|\n",
      "|8|n_neighbors:2,weights:distance|0.816| 0.397|0.380|0.388|0.383|\n",
      "|9|n_neighbors:3,weights:distance|0.852| 0.532|0.308|0.391|0.337|\n",
      "|10|n_neighbors:4,weights:distance|0.862| 0.576|0.381|0.458|0.408|\n",
      "|11|n_neighbors:5,weights:distance|0.876| 0.739|0.298|0.425|0.338|\n",
      "|12|n_neighbors:6,weights:distance|0.874| 0.713|0.304|0.426|0.343|\n"
     ]
    }
   ],
   "source": [
    "from sklearn.neighbors import KNeighborsClassifier\n",
    "from sklearn.pipeline import Pipeline\n",
    "from sklearn.preprocessing import MinMaxScaler\n",
    "from tester import test_classifier\n",
    "\n",
    "\n",
    "print \"|ID|参数|accuracy|precision|recall|f1|f2|\"\n",
    "print \"|-:-|-:-|-:-|-:-|-:-|-:-|-:-|-:-|-:-|\"\n",
    "features = [\"poi\", \"exercised_stock_options\", \"total_stock_value\", \"bonus\"]\n",
    "\n",
    "i = 1\n",
    "for weights in [\"uniform\", \"distance\"]:\n",
    "    for n_neighbors in range(1, 7):\n",
    "        # 特征需要缩放\n",
    "        clf = Pipeline([\n",
    "            (\"scaler\",MinMaxScaler()), \n",
    "            (\"clf\", KNeighborsClassifier(n_neighbors=n_neighbors, weights=weights))\n",
    "        ])\n",
    "        result = test_classifier_for_return(clf, data_dict, features)\n",
    "        if result:\n",
    "            print \"|{}|{}|{:.3f}| {:.3f}|{:.3f}|{:.3f}|{:.3f}|\".format(i, \"n_neighbors:{},weights:{}\".format(n_neighbors,weights), *result)\n",
    "            i += 1"
   ]
  },
  {
   "cell_type": "markdown",
   "metadata": {},
   "source": [
    "整理结果如下：\n",
    "\n",
    "|ID|参数|accuracy|precision|recall|f1|f2|\n",
    "|-:-|-:-|-:-|-:-|-:-|-:-|-:-|-:-|-:-|\n",
    "|1|n_neighbors:1,weights:uniform|0.816| 0.397|0.380|0.388|0.383|\n",
    "|2|n_neighbors:2,weights:uniform|0.869| 0.765|0.213|0.334|0.249|\n",
    "|3|n_neighbors:3,weights:uniform|0.860| 0.583|0.306|0.401|0.338|\n",
    "|4|n_neighbors:4,weights:uniform|0.869| 0.798|0.196|0.314|0.230|\n",
    "|5|n_neighbors:5,weights:uniform|0.878| 0.797|0.280|0.414|0.322|\n",
    "|6|n_neighbors:6,weights:uniform|0.847| 0.543|0.044|0.082|0.055|\n",
    "|7|n_neighbors:1,weights:distance|0.816| 0.397|0.380|0.388|0.383|\n",
    "|8|n_neighbors:2,weights:distance|0.816| 0.397|0.380|0.388|0.383|\n",
    "|9|n_neighbors:3,weights:distance|0.852| 0.532|0.308|0.391|0.337|\n",
    "|10|**n_neighbors:4,weights:distance**|0.862| 0.576|0.381|0.458|0.408|\n",
    "|11|n_neighbors:5,weights:distance|0.876| 0.739|0.298|0.425|0.338|\n",
    "|12|n_neighbors:6,weights:distance|0.874| 0.713|0.304|0.426|0.343|\n",
    "\n"
   ]
  },
  {
   "cell_type": "markdown",
   "metadata": {},
   "source": [
    "上面表格中可以看出当参数为n_neighbors:4,weights:distance时，precision和recall的值整体都比较高，分别为0.576和0.381。"
   ]
  },
  {
   "cell_type": "markdown",
   "metadata": {},
   "source": [
    "#### 贝叶斯算法"
   ]
  },
  {
   "cell_type": "markdown",
   "metadata": {},
   "source": [
    "使用 naive_bayes.GaussianNB类，没有需要调整的参数"
   ]
  },
  {
   "cell_type": "code",
   "execution_count": 25,
   "metadata": {
    "collapsed": false
   },
   "outputs": [
    {
     "name": "stdout",
     "output_type": "stream",
     "text": [
      "|accuracy|precision|recall|f1|f2|\n",
      "|-:-|-:-|-:-|-:-|-:-|-:-|-:-|\n",
      "| 0.843|0.486|0.351|0.408|0.372|\n"
     ]
    }
   ],
   "source": [
    "from sklearn.naive_bayes import GaussianNB\n",
    "\n",
    "\n",
    "# 特征需要缩放\n",
    "features = [\"poi\", \"exercised_stock_options\", \"total_stock_value\", \"bonus\"]\n",
    "clf = GaussianNB()\n",
    "result = test_classifier_for_return(clf, data_dict, features)\n",
    "print \"|accuracy|precision|recall|f1|f2|\"\n",
    "print \"|-:-|-:-|-:-|-:-|-:-|-:-|-:-|\"\n",
    "print \"| {:.3f}|{:.3f}|{:.3f}|{:.3f}|{:.3f}|\".format(*result)"
   ]
  },
  {
   "cell_type": "markdown",
   "metadata": {},
   "source": [
    "|accuracy|precision|recall|f1|f2|\n",
    "|-:-|-:-|-:-|-:-|-:-|-:-|-:-|\n",
    "| 0.843|0.486|0.351|0.408|0.372|"
   ]
  },
  {
   "cell_type": "markdown",
   "metadata": {},
   "source": [
    "#### 决策树分类算法"
   ]
  },
  {
   "cell_type": "markdown",
   "metadata": {},
   "source": [
    "调整的参数意义:\n",
    "\n",
    "- criterion 可以取值'gini'(Gini系数)或'entropy(熵)'，表示切分质量的评价准则。\n",
    "- max_features 表示每次切分考虑特征的数量"
   ]
  },
  {
   "cell_type": "code",
   "execution_count": 26,
   "metadata": {
    "collapsed": false
   },
   "outputs": [
    {
     "name": "stdout",
     "output_type": "stream",
     "text": [
      "|id|参数|accuracy|precision|recall|f1|f2|\n",
      "|-:-|-:-|-:-|-:-|-:-|-:-|-:-|-:-|-:-|\n",
      "|1|criterion:gini, max_features:1|0.821| 0.425|0.469|0.446|0.460|\n",
      "|2|criterion:gini, max_features:2|0.811| 0.388|0.401|0.395|0.398|\n",
      "|3|criterion:gini, max_features:3|0.803| 0.373|0.408|0.389|0.400|\n",
      "|4|criterion:entropy, max_features:1|0.827| 0.442|0.480|0.461|0.472|\n",
      "|5|criterion:entropy, max_features:2|0.823| 0.424|0.417|0.421|0.419|\n",
      "|6|criterion:entropy, max_features:3|0.799| 0.358|0.392|0.374|0.385|\n"
     ]
    }
   ],
   "source": [
    "print \"|id|参数|accuracy|precision|recall|f1|f2|\"\n",
    "print \"|-:-|-:-|-:-|-:-|-:-|-:-|-:-|-:-|-:-|\"\n",
    "features = [\"poi\", \"exercised_stock_options\", \"total_stock_value\", \"bonus\"]\n",
    "i = 1\n",
    "for criterion in [\"gini\", \"entropy\"]:\n",
    "    for max_features in [1, 2, 3]:\n",
    "        clf = DecisionTreeClassifier(\n",
    "            criterion=criterion, \n",
    "            max_features=max_features,\n",
    "            random_state=42\n",
    "        )\n",
    "        result = test_classifier_for_return(clf, data_dict, features)\n",
    "        if result:\n",
    "            print \"|{}|{}|{:.3f}| {:.3f}|{:.3f}|{:.3f}|{:.3f}|\".format(\n",
    "                i, \n",
    "                \"criterion:{}, max_features:{}\".format(\n",
    "                    criterion, max_features\n",
    "                ), \n",
    "                *result)\n",
    "            i += 1"
   ]
  },
  {
   "cell_type": "markdown",
   "metadata": {},
   "source": [
    "得到下表：\n",
    "\n",
    "|id|参数|accuracy|precision|recall|f1|f2|\n",
    "|-:-|-:-|-:-|-:-|-:-|-:-|-:-|-:-|-:-|\n",
    "|1|criterion:gini, max_features:1|0.821| 0.425|0.469|0.446|0.460|\n",
    "|2|criterion:gini, max_features:2|0.811| 0.388|0.401|0.395|0.398|\n",
    "|3|criterion:gini, max_features:3|0.803| 0.373|0.408|0.389|0.400|\n",
    "|4|criterion:entropy, max_features:1|0.827| 0.442|0.480|0.461|0.472|\n",
    "|5|criterion:entropy, max_features:2|0.823| 0.424|0.417|0.421|0.419|\n",
    "|6|criterion:entropy, max_features:3|0.799| 0.358|0.392|0.374|0.385|"
   ]
  },
  {
   "cell_type": "markdown",
   "metadata": {},
   "source": [
    "可以看出第4行的precision和recall整体最高，达到了0.442和0.480, 最终选择调整的参数为criterion:entropy, max_features:1。"
   ]
  },
  {
   "cell_type": "markdown",
   "metadata": {},
   "source": [
    "#### 小结\n",
    "\n",
    "以上每种算法得到的最优结果分别是\n",
    "\n",
    "|算法|accuracy|precision|recall|\n",
    "|-:-|-:-|-:-|-:-|-:-|-:-|\n",
    "|KNN|0.862| 0.576|0.381|\n",
    "|贝叶斯| 0.843|0.486|0.351|\n",
    "|决策树分类|0.827| 0.442|0.480|\n"
   ]
  },
  {
   "cell_type": "markdown",
   "metadata": {},
   "source": [
    "分别尝试了KNN、高斯贝叶斯以及决策树分类等算法，对KNN和决策树算法的参数进行了调优。因为最终评测的指标主要是precision和recall，所以没有使用GridSearchCV，而是自己写代码进行了各种参数的比较。根据验证结果最终选定了决策树分类算法。\n",
    "\n",
    "调整决策树算法的时候遇到一个问题，在不设置random_state的时候结果有一定的随机性，这是因为实现的决策树有一定的随机性，所以在评估的时候设置随机数种子，这样可以正常做对比。"
   ]
  },
  {
   "cell_type": "markdown",
   "metadata": {},
   "source": [
    "## 验证"
   ]
  },
  {
   "cell_type": "markdown",
   "metadata": {},
   "source": [
    "**验证**是指将独立训练集按照一定的方式拆分成训练集和测试集，使用分类或回归算法用训练集建立模型，然后再用测试集对模型进行验证。验证的**重要性**在于，通过测试数据可以评估分类器或者回归在独立数据集上的性能。 如果没有正确执行验证，可能导致算法的过拟合。\n",
    "\n",
    "评估算法中使用了**precision**和**recall**两个性能**指标**，precision表示预测结果为poi的员工中真实poi的比例，recall表示所有poi员工中被预测出来的比例。本次目标是找出有欺诈嫌疑的安然雇员，所以需要考虑recall和precision这两个指标，其中recall稍重要一些。\n",
    "\n",
    "**验证方式**使用了StratifiedShuffleSplit对数据集进行训练和测试集的拆分。 由于整体数据集的不平衡性(非POI为125，POI为18个)，且数据量较少,常规的拆分方式有一定概率会把poi全部分到训练集和测试集中。而使用StratifiedShuffleSplit生成的n组train/test数据集，可以保证每组都与与整体数据中的POI分布百分比一致。"
   ]
  },
  {
   "cell_type": "markdown",
   "metadata": {},
   "source": [
    "\n",
    "最终的**结果**分析如下：\n",
    "- accuracy的平均值为0.827，表示识别一个人是否是嫌疑人的准确率是82.7%；\n",
    "- precision的平均值是0.442，表示如果该算法识别一个人是嫌疑人，正确的概率是44.2%；\n",
    "- recall的平均值是0.480，表示该算法能找出数据集中48%的嫌疑人\n"
   ]
  }
 ],
 "metadata": {
  "kernelspec": {
   "display_name": "Python 2",
   "language": "python",
   "name": "python2"
  },
  "language_info": {
   "codemirror_mode": {
    "name": "ipython",
    "version": 2
   },
   "file_extension": ".py",
   "mimetype": "text/x-python",
   "name": "python",
   "nbconvert_exporter": "python",
   "pygments_lexer": "ipython2",
   "version": "2.7.10"
  }
 },
 "nbformat": 4,
 "nbformat_minor": 2
}
