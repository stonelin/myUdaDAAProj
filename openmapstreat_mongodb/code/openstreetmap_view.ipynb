{
 "cells": [
  {
   "cell_type": "code",
   "execution_count": 1,
   "metadata": {
    "collapsed": true
   },
   "outputs": [],
   "source": [
    "import os\n",
    "import pymongo\n",
    "client = pymongo.MongoClient()\n",
    "db = client.uda"
   ]
  },
  {
   "cell_type": "code",
   "execution_count": 2,
   "metadata": {
    "collapsed": false
   },
   "outputs": [
    {
     "data": {
      "text/plain": [
       "201434364"
      ]
     },
     "execution_count": 2,
     "metadata": {},
     "output_type": "execute_result"
    }
   ],
   "source": [
    "# 文件大小\n",
    "os.path.getsize(\"beijing_china.osm\")"
   ]
  },
  {
   "cell_type": "code",
   "execution_count": 3,
   "metadata": {
    "collapsed": false
   },
   "outputs": [
    {
     "data": {
      "text/plain": [
       "'192.10MB'"
      ]
     },
     "execution_count": 3,
     "metadata": {},
     "output_type": "execute_result"
    }
   ],
   "source": [
    "# 文件大小\n",
    "\"{:.2f}MB\".format(os.path.getsize(\"beijing_china.osm\")/1024.0/1024)"
   ]
  },
  {
   "cell_type": "code",
   "execution_count": 4,
   "metadata": {
    "collapsed": false
   },
   "outputs": [
    {
     "data": {
      "text/plain": [
       "1042475"
      ]
     },
     "execution_count": 4,
     "metadata": {},
     "output_type": "execute_result"
    }
   ],
   "source": [
    "# 总数据量\n",
    "db.openstreetmap.find().count()"
   ]
  },
  {
   "cell_type": "code",
   "execution_count": 5,
   "metadata": {
    "collapsed": false
   },
   "outputs": [
    {
     "data": {
      "text/plain": [
       "907927"
      ]
     },
     "execution_count": 5,
     "metadata": {},
     "output_type": "execute_result"
    }
   ],
   "source": [
    "# 节点数据量\n",
    "db.openstreetmap.find({\"type\": \"node\"}).count()"
   ]
  },
  {
   "cell_type": "code",
   "execution_count": 6,
   "metadata": {
    "collapsed": false
   },
   "outputs": [
    {
     "data": {
      "text/plain": [
       "134534"
      ]
     },
     "execution_count": 6,
     "metadata": {},
     "output_type": "execute_result"
    }
   ],
   "source": [
    "# 途径数据量\n",
    "db.openstreetmap.find({\"type\": \"way\"}).count()"
   ]
  },
  {
   "cell_type": "code",
   "execution_count": 7,
   "metadata": {
    "collapsed": false
   },
   "outputs": [
    {
     "name": "stdout",
     "output_type": "stream",
     "text": [
      "uid:Chen Jia               count:    250334    24.01%\n",
      "uid:R438                   count:    140477    13.48%\n",
      "uid:hanchao                count:     70806    6.79%\n",
      "uid:Алекс Мок              count:     65893    6.32%\n",
      "uid:ij_                    count:     51860    4.97%\n",
      "uid:katpatuka              count:     23407    2.25%\n",
      "uid:m17design              count:     22329    2.14%\n",
      "uid:Esperanza36            count:     18075    1.73%\n",
      "uid:nuklearerWintersturm   count:     15725    1.51%\n",
      "uid:RationalTangle         count:     13635    1.31%\n"
     ]
    }
   ],
   "source": [
    "all_count = db.openstreetmap.find().count()\n",
    "for x in db.openstreetmap.aggregate([\n",
    "    {\"$group\": {\"_id\": \"$created.user\", \"count\":{\"$sum\":1}}},\n",
    "    {\"$sort\": {\"count\": -1}},\n",
    "    {\"$limit\": 10}\n",
    "]):\n",
    "    print(\"uid:{_id:20}   count:{count:10}    {perc:.2f}%\".format(perc=x[\"count\"]*100.0/all_count,**x))"
   ]
  },
  {
   "cell_type": "code",
   "execution_count": 8,
   "metadata": {
    "collapsed": false
   },
   "outputs": [
    {
     "name": "stdout",
     "output_type": "stream",
     "text": [
      "year:                2012 uid:R438                   count:     84875    8.14%\n",
      "year:                2016 uid:Chen Jia               count:     80059    7.68%\n",
      "year:                2017 uid:Алекс Мок              count:     65893    6.32%\n",
      "year:                2017 uid:Chen Jia               count:     59110    5.67%\n",
      "year:                2015 uid:Chen Jia               count:     52936    5.08%\n",
      "year:                2012 uid:ij_                    count:     44429    4.26%\n",
      "year:                2013 uid:R438                   count:     32772    3.14%\n",
      "year:                2014 uid:hanchao                count:     32115    3.08%\n",
      "year:                2013 uid:Chen Jia               count:     31055    2.98%\n",
      "year:                2014 uid:Chen Jia               count:     27169    2.61%\n",
      "year:                2011 uid:R438                   count:     21211    2.03%\n",
      "year:                2013 uid:m17design              count:     20403    1.96%\n",
      "year:                2016 uid:hanchao                count:     17145    1.64%\n",
      "year:                2015 uid:RationalTangle         count:     13635    1.31%\n",
      "year:                2010 uid:katpatuka              count:     12743    1.22%\n",
      "year:                2013 uid:hanchao                count:     10742    1.03%\n",
      "year:                2009 uid:nuklearerWintersturm   count:     10197    0.98%\n",
      "year:                2017 uid:ik999                  count:      9405    0.90%\n",
      "year:                2017 uid:hanchao                count:      8994    0.86%\n",
      "year:                2010 uid:Esperanza36            count:      8032    0.77%\n",
      "year:                2010 uid:ij_                    count:      7318    0.70%\n",
      "year:                2017 uid:快乐书香虎                  count:      7244    0.69%\n",
      "year:                2016 uid:OSM-Bremen             count:      7224    0.69%\n",
      "year:                2015 uid:Oberaffe               count:      6792    0.65%\n",
      "year:                2012 uid:Charlie_Tsai           count:      6659    0.64%\n",
      "year:                2014 uid:Insight Adventures     count:      6508    0.62%\n",
      "year:                2014 uid:42429                  count:      6197    0.59%\n",
      "year:                2013 uid:liyingben              count:      6058    0.58%\n",
      "year:                2013 uid:mousedou               count:      5708    0.55%\n",
      "year:                2015 uid:u_kubota               count:      5594    0.54%\n"
     ]
    }
   ],
   "source": [
    "all_count = db.openstreetmap.find().count()\n",
    "for x in db.openstreetmap.aggregate([\n",
    "    {\"$project\": {\"year\": {\"$year\": \"$created.timestamp\"}, \"created.user\":\"$created.user\" }},\n",
    "#     {\"$match\": {\"year\": 2017}},\n",
    "    {\"$group\": {\"_id\": {\"year\": \"$year\", \"user\":\"$created.user\"}, \"count\":{\"$sum\":1}}},\n",
    "    {\"$sort\": {\"count\": -1, \"year\": 1}},\n",
    "    {\"$limit\": 30}\n",
    "]):\n",
    "    print(\"year:{year:20} uid:{user:20}   count:{count:10}    {perc:.2f}%\".format(\n",
    "        perc=x[\"count\"]*100.0/all_count,count=x[\"count\"], **x[\"_id\"]))"
   ]
  },
  {
   "cell_type": "code",
   "execution_count": 9,
   "metadata": {
    "collapsed": false
   },
   "outputs": [
    {
     "name": "stdout",
     "output_type": "stream",
     "text": [
      "restaurant                     1507\n",
      "parking                        865\n",
      "school                         549\n",
      "bank                           476\n",
      "toilets                        439\n",
      "fast_food                      351\n",
      "cafe                           308\n",
      "fuel                           305\n",
      "hospital                       197\n",
      "bar                            168\n"
     ]
    }
   ],
   "source": [
    "# 各种设施数量top10\n",
    "for item in db.openstreetmap.aggregate([\n",
    "    {\"$match\": {\"amenity\":{\"$exists\": 1}}},\n",
    "    {\"$group\": {\"_id\":\"$amenity\", \"count\": {\"$sum\": 1}}},\n",
    "    {\"$sort\": {\"count\": -1}},\n",
    "    {\"$limit\": 10}\n",
    "]):\n",
    "    print(\"{:30} {}\".format(item[\"_id\"], item[\"count\"]))"
   ]
  },
  {
   "cell_type": "code",
   "execution_count": 10,
   "metadata": {
    "collapsed": false
   },
   "outputs": [
    {
     "name": "stdout",
     "output_type": "stream",
     "text": [
      "所属宗教                           建筑数量\n",
      "buddhist                       43\n",
      "christian                      12\n",
      "muslim                         6\n",
      "taoist                         6\n",
      "confucian                      1\n",
      "hindu                          1\n"
     ]
    }
   ],
   "source": [
    "# 建筑宗教分布\n",
    "print(\"{:30} {}\".format(\"所属宗教\",\"建筑数量\"))\n",
    "for i, item in enumerate(db.openstreetmap.aggregate([\n",
    "    {\"$match\":{\"amenity\":\"place_of_worship\", \"name\":{\"$exists\": 1}, \"religion\": {\"$exists\": 1}}},\n",
    "    {\"$group\": {\"_id\": \"$religion\", \"count\": {\"$sum\": 1}}},\n",
    "    {\"$sort\": {\"count\": -1}}\n",
    "])):\n",
    "    print(\"{:30} {}\".format(item[\"_id\"], item[\"count\"]))"
   ]
  },
  {
   "cell_type": "code",
   "execution_count": 11,
   "metadata": {
    "collapsed": false
   },
   "outputs": [
    {
     "data": {
      "text/plain": [
       "(826, 317)"
      ]
     },
     "execution_count": 11,
     "metadata": {},
     "output_type": "execute_result"
    }
   ],
   "source": [
    "# 有注明烹饪风格的餐馆总数\n",
    "no_cuisine_cnt = db.openstreetmap.find({\"amenity\":\"restaurant\", \"name\": {\"$exists\": 1}, \"cuisine\":{\"$exists\": 0}}).count()\n",
    "has_cuisine_cnt = db.openstreetmap.find({\"amenity\":\"restaurant\", \"name\": {\"$exists\": 1}, \"cuisine\":{\"$exists\": 1}}).count()\n",
    "no_cuisine_cnt, has_cuisine_cnt"
   ]
  },
  {
   "cell_type": "code",
   "execution_count": 12,
   "metadata": {
    "collapsed": false,
    "scrolled": false
   },
   "outputs": [
    {
     "name": "stdout",
     "output_type": "stream",
     "text": [
      "chinese                                            162\n",
      "italian                                            17\n",
      "japanese                                           17\n",
      "international                                      12\n",
      "pizza                                              12\n",
      "american                                           9\n",
      "asian                                              9\n",
      "regional                                           7\n",
      "german                                             6\n",
      "korean                                             5\n"
     ]
    }
   ],
   "source": [
    "# 各种设施数量\n",
    "for item in db.openstreetmap.aggregate([\n",
    "    {\"$match\": {\"amenity\":\"restaurant\", \"name\": {\"$exists\": 1}, \"cuisine\":{\"$exists\": 1}}},\n",
    "    {\"$unwind\": \"$cuisine\"},\n",
    "    {\"$group\": {\"_id\":\"$cuisine\", \"count\": {\"$sum\": 1}}},\n",
    "    {\"$sort\": {\"count\": -1}},\n",
    "    {\"$limit\": 10}\n",
    "]):\n",
    "    print(\"{:50} {}\".format(item[\"_id\"], item[\"count\"]))"
   ]
  },
  {
   "cell_type": "code",
   "execution_count": 13,
   "metadata": {
    "collapsed": false
   },
   "outputs": [
    {
     "name": "stdout",
     "output_type": "stream",
     "text": [
      "2007 81\n",
      "2008 7856\n",
      "2009 24758\n",
      "2010 37414\n",
      "2011 38223\n",
      "2012 168198\n",
      "2013 142529\n",
      "2014 101093\n",
      "2015 138463\n",
      "2016 165670\n",
      "2017 218190\n"
     ]
    }
   ],
   "source": [
    "# 创建时间分布\n",
    "for obj in db.openstreetmap.aggregate([\n",
    "    {\n",
    "        \"$group\": {\n",
    "            \"_id\": {\"year\": {\"$year\": \"$created.timestamp\"}}, \n",
    "             \"count\": {\"$sum\":1}\n",
    "        }\n",
    "    },\n",
    "    {\"$sort\": {\"_id.year\": 1}}\n",
    "]):\n",
    "    print(obj[\"_id\"][\"year\"], obj[\"count\"])"
   ]
  },
  {
   "cell_type": "code",
   "execution_count": 14,
   "metadata": {
    "collapsed": false
   },
   "outputs": [
    {
     "data": {
      "text/plain": [
       "<pymongo.cursor.Cursor at 0x1073ebcc0>"
      ]
     },
     "execution_count": 14,
     "metadata": {},
     "output_type": "execute_result"
    }
   ],
   "source": [
    "db.openstreetmap.find({\"address.street\": {\"$exists\": 1}})"
   ]
  },
  {
   "cell_type": "code",
   "execution_count": 15,
   "metadata": {
    "collapsed": false
   },
   "outputs": [
    {
     "name": "stdout",
     "output_type": "stream",
     "text": [
      "成府路                            21\n",
      "太平路                            12\n",
      "光华路                            12\n",
      "广渠门内大街                         12\n",
      "闵航路                            11\n",
      "中关村东路                          11\n",
      "知春路                            11\n",
      "蒲方路                            10\n",
      "左安门内大街                         10\n",
      "建国路                            10\n",
      "新中街                            9\n",
      "龙域中路 1号院                       9\n",
      "北四环西路                          9\n",
      "中滩村大街 8号院                      8\n",
      "蒲芳路                            7\n",
      "苏州街                            7\n",
      "学院路                            7\n",
      "广顺南大街                          7\n",
      "鼓楼东大街                          6\n",
      "牛街                             6\n",
      "将台路                            6\n",
      "北苑路                            6\n",
      "工人体育场北路                        6\n",
      "新街口外大街                         6\n",
      "展览馆路                           6\n",
      "西直门外大街                         5\n",
      "石景山路                           5\n",
      "北三环西路                          5\n",
      "手帕口南街                          5\n",
      "漷马路                            5\n",
      "真武庙六里                          5\n",
      "光明路                            5\n",
      "慧忠路                            5\n",
      "农业展览馆                          5\n",
      "后海南沿                           5\n",
      "方家胡同                           5\n",
      "车公庄大街                          4\n",
      "马驹桥                            4\n",
      "北四环中路                          4\n",
      "工人体育场西路                        4\n",
      "大屯路                            4\n",
      "雁栖湖北路                          4\n",
      "中关村南大街                         4\n",
      "安乐林路                           4\n",
      "金融大街                           4\n",
      "翠园西街                           4\n",
      "南三里屯路                          4\n",
      "北辰西路                           4\n",
      "复兴路                            4\n",
      "学院南路                           4\n",
      "护国寺大街                          3\n",
      "望京东路                           3\n",
      "育知东路                           3\n",
      "安宁庄西路                          3\n",
      "立汤路                            3\n",
      "圆明园西路                          3\n",
      "护国寺街                           3\n",
      "金鱼胡同                           3\n",
      "朝阳门外大街                         3\n",
      "光明zhong jie                    3\n",
      "横一条                            3\n",
      "花家地南街                          3\n",
      "方庄路                            3\n",
      "沙滩后街                           3\n",
      "麦子店街                           3\n",
      "玉泉路                            3\n",
      "朝阳门内大街2号                       3\n",
      "学院路丁11号院                       3\n",
      "兴华胡同                           3\n",
      "华清嘉园                           3\n",
      "展春园西路                          3\n",
      "西二旗                            3\n",
      "雍和宫大街                          3\n",
      "学清路                            3\n",
      "德胜门西大街                         3\n",
      "帽儿胡同                           3\n",
      "首体南路                           2\n",
      "St. Shuangqiao                 2\n",
      "东直门内大街                         2\n",
      "Santilun West 6th Street       2\n",
      "邓庄南路                           2\n",
      "顺白路                            2\n",
      "莲花苑                            2\n",
      "前鼓楼苑胡同                         2\n",
      "康泽路                            2\n",
      "新街口南大街                         2\n",
      "东四北大街                          2\n",
      "青年沟东口                          2\n",
      "通顺路                            2\n",
      "蓝靛厂路                           2\n",
      "安贞路                            2\n",
      "幸福村中路                          2\n",
      "棕园西路                           2\n",
      "沙滩北街                           2\n",
      "花园路                            2\n",
      "东直门南大街                         2\n",
      "Xizhaosi Street                2\n",
      "新源南路                           2\n",
      "锦芳路                            2\n",
      "金宝街                            2\n"
     ]
    }
   ],
   "source": [
    "# 街道top10\n",
    "for item in db.openstreetmap.aggregate([\n",
    "    {\"$match\": {\"address.street\":{\"$exists\": 1}}},\n",
    "    {\"$group\": {\"_id\":\"$address.street\", \"count\": {\"$sum\": 1}}},\n",
    "    {\"$sort\": {\"count\": -1}},\n",
    "    {\"$limit\": 100}\n",
    "]):\n",
    "    print(\"{:30} {}\".format(item[\"_id\"], item[\"count\"]))"
   ]
  },
  {
   "cell_type": "code",
   "execution_count": null,
   "metadata": {
    "collapsed": true
   },
   "outputs": [],
   "source": []
  }
 ],
 "metadata": {
  "kernelspec": {
   "display_name": "Python 3",
   "language": "python",
   "name": "python3"
  },
  "language_info": {
   "codemirror_mode": {
    "name": "ipython",
    "version": 3
   },
   "file_extension": ".py",
   "mimetype": "text/x-python",
   "name": "python",
   "nbconvert_exporter": "python",
   "pygments_lexer": "ipython3",
   "version": "3.6.0"
  }
 },
 "nbformat": 4,
 "nbformat_minor": 2
}
